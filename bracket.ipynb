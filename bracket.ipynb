{
 "cells": [
  {
   "cell_type": "code",
   "execution_count": null,
   "metadata": {},
   "outputs": [],
   "source": [
    "str = \"([])\"\n",
    "str2 = \"([)]\"\n",
    "str3 = \"((()\"\n",
    "str4 = \"{[(([)])]}\"\n",
    "str5 = \"{[({[()]})]}\"\n",
    "def open_close_brackets(str):\n",
    "    s = str\n",
    "    for i in range(len(str)):\n",
    "        if len(s) == 0:\n",
    "            return True\n",
    "        elif \"()\" in s:\n",
    "           s = s.replace(\"()\",\"\")\n",
    "        elif \"[]\" in s:\n",
    "           s = s.replace(\"[]\",\"\")\n",
    "        elif \"{}\" in s:\n",
    "           s = s.replace(\"{}\",\"\")\n",
    "        else:\n",
    "            return False\n",
    "\n",
    "\n",
    "print(open_close_brackets(str))\n",
    "print(open_close_brackets(str2))\n",
    "print(open_close_brackets(str3))\n",
    "print(open_close_brackets(str4))\n",
    "print(open_close_brackets(str5))"
   ]
  }
 ],
 "metadata": {
  "language_info": {
   "name": "python"
  },
  "orig_nbformat": 4
 },
 "nbformat": 4,
 "nbformat_minor": 2
}
